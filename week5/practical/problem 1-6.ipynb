{
 "cells": [
  {
   "cell_type": "code",
   "execution_count": 27,
   "metadata": {},
   "outputs": [
    {
     "data": {
      "text/plain": [
       "2.0"
      ]
     },
     "execution_count": 27,
     "metadata": {},
     "output_type": "execute_result"
    }
   ],
   "source": [
    "def f1(x,y,z):\n",
    "    return((x+y+z)/3)\n",
    "f1(1,2,3)    "
   ]
  },
  {
   "cell_type": "code",
   "execution_count": 46,
   "metadata": {},
   "outputs": [
    {
     "data": {
      "text/plain": [
       "4"
      ]
     },
     "execution_count": 46,
     "metadata": {},
     "output_type": "execute_result"
    }
   ],
   "source": [
    "list1=[1,2,3,4,5,6,7,8,9]\n",
    "def f2(l):\n",
    "    a=0\n",
    "    for x in l:\n",
    "        if x%2==0:\n",
    "             a+=1\n",
    "    return a       \n",
    "f2(list1)          \n",
    "    "
   ]
  },
  {
   "cell_type": "code",
   "execution_count": 36,
   "metadata": {},
   "outputs": [
    {
     "name": "stdout",
     "output_type": "stream",
     "text": [
      "True\n"
     ]
    }
   ],
   "source": [
    "l1=('1','2','3','4','5','6','7','8','9','0')\n",
    "def f3(password):\n",
    "    if len(password)>9 and len(set(password).intersection(l1))>1:\n",
    "        print(True)\n",
    "    else:\n",
    "        print(False)\n",
    "f3(\"asdfghfgh62\")    "
   ]
  },
  {
   "cell_type": "code",
   "execution_count": 45,
   "metadata": {},
   "outputs": [
    {
     "name": "stdout",
     "output_type": "stream",
     "text": [
      "nam, Welcome to our company!\n"
     ]
    }
   ],
   "source": [
    "def f4(name, greeting=\"Welcome to our company!\"):\n",
    "    print(name+\",\", greeting)\n",
    "f4('nam')    \n"
   ]
  },
  {
   "cell_type": "code",
   "execution_count": 58,
   "metadata": {},
   "outputs": [
    {
     "name": "stdout",
     "output_type": "stream",
     "text": [
      "nam, your average grade is 112501.5\n"
     ]
    }
   ],
   "source": [
    "def f5(name, *arg):\n",
    "    a=b=0\n",
    "    for x in arg:\n",
    "        a+=x\n",
    "        b+=1\n",
    "    if b==0:\n",
    "        a=0\n",
    "    else:    \n",
    "        a/=b    \n",
    "    print(name+\",\",\"your average grade is\",a)\n",
    "f5(\"nam\",2,3,3,2,2,0,0,900000)    "
   ]
  },
  {
   "cell_type": "code",
   "execution_count": 64,
   "metadata": {},
   "outputs": [
    {
     "name": "stdout",
     "output_type": "stream",
     "text": [
      "a : 4\n",
      "b : 7\n"
     ]
    }
   ],
   "source": [
    "def f6(user,**kar):\n",
    "    if user==\"admin\":\n",
    "        for x,y in kar.items():\n",
    "            print(x,\":\",y)\n",
    "f6(\"admin\",a=4,b=7)    "
   ]
  },
  {
   "cell_type": "code",
   "execution_count": null,
   "metadata": {},
   "outputs": [],
   "source": []
  }
 ],
 "metadata": {
  "kernelspec": {
   "display_name": "Python 3",
   "language": "python",
   "name": "python3"
  },
  "language_info": {
   "codemirror_mode": {
    "name": "ipython",
    "version": 3
   },
   "file_extension": ".py",
   "mimetype": "text/x-python",
   "name": "python",
   "nbconvert_exporter": "python",
   "pygments_lexer": "ipython3",
   "version": "3.7.3"
  }
 },
 "nbformat": 4,
 "nbformat_minor": 2
}
